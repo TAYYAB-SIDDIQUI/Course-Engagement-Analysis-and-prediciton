{
 "cells": [
  {
   "cell_type": "code",
   "execution_count": 73,
   "metadata": {},
   "outputs": [],
   "source": [
    "import pandas as pd\n",
    "import numpy as np\n",
    "import matplotlib.pyplot as plt\n",
    "import seaborn as sns\n",
    "from sklearn.model_selection import train_test_split\n",
    "from sklearn.preprocessing import LabelEncoder,OrdinalEncoder,MinMaxScaler\n",
    "from sklearn.linear_model import LinearRegression,LogisticRegression\n",
    "from sklearn.tree import DecisionTreeClassifier,DecisionTreeRegressor\n",
    "from imblearn.over_sampling import SMOTE\n",
    "from sklearn.ensemble import RandomForestClassifier,RandomForestRegressor\n",
    "from sklearn.metrics import accuracy_score,precision_score,confusion_matrix,classification_report"
   ]
  },
  {
   "cell_type": "code",
   "execution_count": 74,
   "metadata": {},
   "outputs": [
    {
     "data": {
      "text/html": [
       "<div>\n",
       "<style scoped>\n",
       "    .dataframe tbody tr th:only-of-type {\n",
       "        vertical-align: middle;\n",
       "    }\n",
       "\n",
       "    .dataframe tbody tr th {\n",
       "        vertical-align: top;\n",
       "    }\n",
       "\n",
       "    .dataframe thead th {\n",
       "        text-align: right;\n",
       "    }\n",
       "</style>\n",
       "<table border=\"1\" class=\"dataframe\">\n",
       "  <thead>\n",
       "    <tr style=\"text-align: right;\">\n",
       "      <th></th>\n",
       "      <th>UserID</th>\n",
       "      <th>CourseCategory</th>\n",
       "      <th>TimeSpentOnCourse</th>\n",
       "      <th>NumberOfVideosWatched</th>\n",
       "      <th>NumberOfQuizzesTaken</th>\n",
       "      <th>QuizScores</th>\n",
       "      <th>CompletionRate</th>\n",
       "      <th>DeviceType</th>\n",
       "      <th>CourseCompletion</th>\n",
       "    </tr>\n",
       "  </thead>\n",
       "  <tbody>\n",
       "    <tr>\n",
       "      <th>0</th>\n",
       "      <td>5618</td>\n",
       "      <td>Health</td>\n",
       "      <td>29.979719</td>\n",
       "      <td>17</td>\n",
       "      <td>3</td>\n",
       "      <td>50.365656</td>\n",
       "      <td>20.860773</td>\n",
       "      <td>1</td>\n",
       "      <td>0</td>\n",
       "    </tr>\n",
       "    <tr>\n",
       "      <th>1</th>\n",
       "      <td>4326</td>\n",
       "      <td>Arts</td>\n",
       "      <td>27.802640</td>\n",
       "      <td>1</td>\n",
       "      <td>5</td>\n",
       "      <td>62.615970</td>\n",
       "      <td>65.632415</td>\n",
       "      <td>1</td>\n",
       "      <td>0</td>\n",
       "    </tr>\n",
       "    <tr>\n",
       "      <th>2</th>\n",
       "      <td>5849</td>\n",
       "      <td>Arts</td>\n",
       "      <td>86.820485</td>\n",
       "      <td>14</td>\n",
       "      <td>2</td>\n",
       "      <td>78.458962</td>\n",
       "      <td>63.812007</td>\n",
       "      <td>1</td>\n",
       "      <td>1</td>\n",
       "    </tr>\n",
       "    <tr>\n",
       "      <th>3</th>\n",
       "      <td>4992</td>\n",
       "      <td>Science</td>\n",
       "      <td>35.038427</td>\n",
       "      <td>17</td>\n",
       "      <td>10</td>\n",
       "      <td>59.198853</td>\n",
       "      <td>95.433162</td>\n",
       "      <td>0</td>\n",
       "      <td>1</td>\n",
       "    </tr>\n",
       "    <tr>\n",
       "      <th>4</th>\n",
       "      <td>3866</td>\n",
       "      <td>Programming</td>\n",
       "      <td>92.490647</td>\n",
       "      <td>16</td>\n",
       "      <td>0</td>\n",
       "      <td>98.428285</td>\n",
       "      <td>18.102478</td>\n",
       "      <td>0</td>\n",
       "      <td>0</td>\n",
       "    </tr>\n",
       "    <tr>\n",
       "      <th>...</th>\n",
       "      <td>...</td>\n",
       "      <td>...</td>\n",
       "      <td>...</td>\n",
       "      <td>...</td>\n",
       "      <td>...</td>\n",
       "      <td>...</td>\n",
       "      <td>...</td>\n",
       "      <td>...</td>\n",
       "      <td>...</td>\n",
       "    </tr>\n",
       "    <tr>\n",
       "      <th>8995</th>\n",
       "      <td>8757</td>\n",
       "      <td>Health</td>\n",
       "      <td>37.445225</td>\n",
       "      <td>14</td>\n",
       "      <td>4</td>\n",
       "      <td>54.469359</td>\n",
       "      <td>32.990704</td>\n",
       "      <td>1</td>\n",
       "      <td>0</td>\n",
       "    </tr>\n",
       "    <tr>\n",
       "      <th>8996</th>\n",
       "      <td>894</td>\n",
       "      <td>Science</td>\n",
       "      <td>48.631443</td>\n",
       "      <td>7</td>\n",
       "      <td>7</td>\n",
       "      <td>59.413257</td>\n",
       "      <td>0.254625</td>\n",
       "      <td>0</td>\n",
       "      <td>0</td>\n",
       "    </tr>\n",
       "    <tr>\n",
       "      <th>8997</th>\n",
       "      <td>6323</td>\n",
       "      <td>Health</td>\n",
       "      <td>38.212512</td>\n",
       "      <td>3</td>\n",
       "      <td>3</td>\n",
       "      <td>69.508297</td>\n",
       "      <td>70.188159</td>\n",
       "      <td>1</td>\n",
       "      <td>0</td>\n",
       "    </tr>\n",
       "    <tr>\n",
       "      <th>8998</th>\n",
       "      <td>3652</td>\n",
       "      <td>Health</td>\n",
       "      <td>70.048665</td>\n",
       "      <td>13</td>\n",
       "      <td>10</td>\n",
       "      <td>79.655182</td>\n",
       "      <td>72.975225</td>\n",
       "      <td>1</td>\n",
       "      <td>1</td>\n",
       "    </tr>\n",
       "    <tr>\n",
       "      <th>8999</th>\n",
       "      <td>5595</td>\n",
       "      <td>Health</td>\n",
       "      <td>93.589781</td>\n",
       "      <td>7</td>\n",
       "      <td>5</td>\n",
       "      <td>56.274546</td>\n",
       "      <td>11.299071</td>\n",
       "      <td>0</td>\n",
       "      <td>0</td>\n",
       "    </tr>\n",
       "  </tbody>\n",
       "</table>\n",
       "<p>9000 rows × 9 columns</p>\n",
       "</div>"
      ],
      "text/plain": [
       "      UserID CourseCategory  TimeSpentOnCourse  NumberOfVideosWatched  \\\n",
       "0       5618         Health          29.979719                     17   \n",
       "1       4326           Arts          27.802640                      1   \n",
       "2       5849           Arts          86.820485                     14   \n",
       "3       4992        Science          35.038427                     17   \n",
       "4       3866    Programming          92.490647                     16   \n",
       "...      ...            ...                ...                    ...   \n",
       "8995    8757         Health          37.445225                     14   \n",
       "8996     894        Science          48.631443                      7   \n",
       "8997    6323         Health          38.212512                      3   \n",
       "8998    3652         Health          70.048665                     13   \n",
       "8999    5595         Health          93.589781                      7   \n",
       "\n",
       "      NumberOfQuizzesTaken  QuizScores  CompletionRate  DeviceType  \\\n",
       "0                        3   50.365656       20.860773           1   \n",
       "1                        5   62.615970       65.632415           1   \n",
       "2                        2   78.458962       63.812007           1   \n",
       "3                       10   59.198853       95.433162           0   \n",
       "4                        0   98.428285       18.102478           0   \n",
       "...                    ...         ...             ...         ...   \n",
       "8995                     4   54.469359       32.990704           1   \n",
       "8996                     7   59.413257        0.254625           0   \n",
       "8997                     3   69.508297       70.188159           1   \n",
       "8998                    10   79.655182       72.975225           1   \n",
       "8999                     5   56.274546       11.299071           0   \n",
       "\n",
       "      CourseCompletion  \n",
       "0                    0  \n",
       "1                    0  \n",
       "2                    1  \n",
       "3                    1  \n",
       "4                    0  \n",
       "...                ...  \n",
       "8995                 0  \n",
       "8996                 0  \n",
       "8997                 0  \n",
       "8998                 1  \n",
       "8999                 0  \n",
       "\n",
       "[9000 rows x 9 columns]"
      ]
     },
     "execution_count": 74,
     "metadata": {},
     "output_type": "execute_result"
    }
   ],
   "source": [
    "df=pd.read_csv(\"online_course_engagement_data.csv\")\n",
    "df"
   ]
  },
  {
   "cell_type": "code",
   "execution_count": 75,
   "metadata": {},
   "outputs": [
    {
     "name": "stdout",
     "output_type": "stream",
     "text": [
      "Numerical Variable : ['UserID', 'TimeSpentOnCourse', 'NumberOfVideosWatched', 'NumberOfQuizzesTaken', 'QuizScores', 'CompletionRate', 'DeviceType', 'CourseCompletion']\n",
      "Categorical Variable : ['CourseCategory']\n"
     ]
    }
   ],
   "source": [
    "num_var=[features for features in df.columns if df[features].dtype!=\"O\"]\n",
    "cat_var=[features for features in df.columns if df[features].dtype==\"O\"]\n",
    "print(f\"Numerical Variable : {num_var}\\nCategorical Variable : {cat_var}\")"
   ]
  },
  {
   "cell_type": "code",
   "execution_count": 76,
   "metadata": {},
   "outputs": [],
   "source": [
    "le=LabelEncoder()\n",
    "df[\"CourseCategory\"]=le.fit_transform(df[\"CourseCategory\"])"
   ]
  },
  {
   "cell_type": "code",
   "execution_count": 77,
   "metadata": {},
   "outputs": [
    {
     "data": {
      "text/html": [
       "<div>\n",
       "<style scoped>\n",
       "    .dataframe tbody tr th:only-of-type {\n",
       "        vertical-align: middle;\n",
       "    }\n",
       "\n",
       "    .dataframe tbody tr th {\n",
       "        vertical-align: top;\n",
       "    }\n",
       "\n",
       "    .dataframe thead th {\n",
       "        text-align: right;\n",
       "    }\n",
       "</style>\n",
       "<table border=\"1\" class=\"dataframe\">\n",
       "  <thead>\n",
       "    <tr style=\"text-align: right;\">\n",
       "      <th></th>\n",
       "      <th>UserID</th>\n",
       "      <th>CourseCategory</th>\n",
       "      <th>TimeSpentOnCourse</th>\n",
       "      <th>NumberOfVideosWatched</th>\n",
       "      <th>NumberOfQuizzesTaken</th>\n",
       "      <th>QuizScores</th>\n",
       "      <th>CompletionRate</th>\n",
       "      <th>DeviceType</th>\n",
       "      <th>CourseCompletion</th>\n",
       "    </tr>\n",
       "  </thead>\n",
       "  <tbody>\n",
       "    <tr>\n",
       "      <th>UserID</th>\n",
       "      <td>1.000000</td>\n",
       "      <td>-0.013553</td>\n",
       "      <td>0.009134</td>\n",
       "      <td>0.018368</td>\n",
       "      <td>-0.001164</td>\n",
       "      <td>-0.010824</td>\n",
       "      <td>-0.006239</td>\n",
       "      <td>0.006026</td>\n",
       "      <td>0.021093</td>\n",
       "    </tr>\n",
       "    <tr>\n",
       "      <th>CourseCategory</th>\n",
       "      <td>-0.013553</td>\n",
       "      <td>1.000000</td>\n",
       "      <td>0.003126</td>\n",
       "      <td>0.003750</td>\n",
       "      <td>0.008966</td>\n",
       "      <td>-0.016746</td>\n",
       "      <td>-0.008146</td>\n",
       "      <td>0.012397</td>\n",
       "      <td>-0.006694</td>\n",
       "    </tr>\n",
       "    <tr>\n",
       "      <th>TimeSpentOnCourse</th>\n",
       "      <td>0.009134</td>\n",
       "      <td>0.003126</td>\n",
       "      <td>1.000000</td>\n",
       "      <td>0.019833</td>\n",
       "      <td>-0.012562</td>\n",
       "      <td>-0.006152</td>\n",
       "      <td>0.020934</td>\n",
       "      <td>0.004144</td>\n",
       "      <td>0.182553</td>\n",
       "    </tr>\n",
       "    <tr>\n",
       "      <th>NumberOfVideosWatched</th>\n",
       "      <td>0.018368</td>\n",
       "      <td>0.003750</td>\n",
       "      <td>0.019833</td>\n",
       "      <td>1.000000</td>\n",
       "      <td>-0.020059</td>\n",
       "      <td>-0.017497</td>\n",
       "      <td>0.016257</td>\n",
       "      <td>0.007403</td>\n",
       "      <td>0.234360</td>\n",
       "    </tr>\n",
       "    <tr>\n",
       "      <th>NumberOfQuizzesTaken</th>\n",
       "      <td>-0.001164</td>\n",
       "      <td>0.008966</td>\n",
       "      <td>-0.012562</td>\n",
       "      <td>-0.020059</td>\n",
       "      <td>1.000000</td>\n",
       "      <td>-0.012295</td>\n",
       "      <td>0.006892</td>\n",
       "      <td>0.015973</td>\n",
       "      <td>0.284504</td>\n",
       "    </tr>\n",
       "    <tr>\n",
       "      <th>QuizScores</th>\n",
       "      <td>-0.010824</td>\n",
       "      <td>-0.016746</td>\n",
       "      <td>-0.006152</td>\n",
       "      <td>-0.017497</td>\n",
       "      <td>-0.012295</td>\n",
       "      <td>1.000000</td>\n",
       "      <td>-0.012303</td>\n",
       "      <td>0.004225</td>\n",
       "      <td>0.299983</td>\n",
       "    </tr>\n",
       "    <tr>\n",
       "      <th>CompletionRate</th>\n",
       "      <td>-0.006239</td>\n",
       "      <td>-0.008146</td>\n",
       "      <td>0.020934</td>\n",
       "      <td>0.016257</td>\n",
       "      <td>0.006892</td>\n",
       "      <td>-0.012303</td>\n",
       "      <td>1.000000</td>\n",
       "      <td>-0.004767</td>\n",
       "      <td>0.326139</td>\n",
       "    </tr>\n",
       "    <tr>\n",
       "      <th>DeviceType</th>\n",
       "      <td>0.006026</td>\n",
       "      <td>0.012397</td>\n",
       "      <td>0.004144</td>\n",
       "      <td>0.007403</td>\n",
       "      <td>0.015973</td>\n",
       "      <td>0.004225</td>\n",
       "      <td>-0.004767</td>\n",
       "      <td>1.000000</td>\n",
       "      <td>0.007551</td>\n",
       "    </tr>\n",
       "    <tr>\n",
       "      <th>CourseCompletion</th>\n",
       "      <td>0.021093</td>\n",
       "      <td>-0.006694</td>\n",
       "      <td>0.182553</td>\n",
       "      <td>0.234360</td>\n",
       "      <td>0.284504</td>\n",
       "      <td>0.299983</td>\n",
       "      <td>0.326139</td>\n",
       "      <td>0.007551</td>\n",
       "      <td>1.000000</td>\n",
       "    </tr>\n",
       "  </tbody>\n",
       "</table>\n",
       "</div>"
      ],
      "text/plain": [
       "                         UserID  CourseCategory  TimeSpentOnCourse  \\\n",
       "UserID                 1.000000       -0.013553           0.009134   \n",
       "CourseCategory        -0.013553        1.000000           0.003126   \n",
       "TimeSpentOnCourse      0.009134        0.003126           1.000000   \n",
       "NumberOfVideosWatched  0.018368        0.003750           0.019833   \n",
       "NumberOfQuizzesTaken  -0.001164        0.008966          -0.012562   \n",
       "QuizScores            -0.010824       -0.016746          -0.006152   \n",
       "CompletionRate        -0.006239       -0.008146           0.020934   \n",
       "DeviceType             0.006026        0.012397           0.004144   \n",
       "CourseCompletion       0.021093       -0.006694           0.182553   \n",
       "\n",
       "                       NumberOfVideosWatched  NumberOfQuizzesTaken  \\\n",
       "UserID                              0.018368             -0.001164   \n",
       "CourseCategory                      0.003750              0.008966   \n",
       "TimeSpentOnCourse                   0.019833             -0.012562   \n",
       "NumberOfVideosWatched               1.000000             -0.020059   \n",
       "NumberOfQuizzesTaken               -0.020059              1.000000   \n",
       "QuizScores                         -0.017497             -0.012295   \n",
       "CompletionRate                      0.016257              0.006892   \n",
       "DeviceType                          0.007403              0.015973   \n",
       "CourseCompletion                    0.234360              0.284504   \n",
       "\n",
       "                       QuizScores  CompletionRate  DeviceType  \\\n",
       "UserID                  -0.010824       -0.006239    0.006026   \n",
       "CourseCategory          -0.016746       -0.008146    0.012397   \n",
       "TimeSpentOnCourse       -0.006152        0.020934    0.004144   \n",
       "NumberOfVideosWatched   -0.017497        0.016257    0.007403   \n",
       "NumberOfQuizzesTaken    -0.012295        0.006892    0.015973   \n",
       "QuizScores               1.000000       -0.012303    0.004225   \n",
       "CompletionRate          -0.012303        1.000000   -0.004767   \n",
       "DeviceType               0.004225       -0.004767    1.000000   \n",
       "CourseCompletion         0.299983        0.326139    0.007551   \n",
       "\n",
       "                       CourseCompletion  \n",
       "UserID                         0.021093  \n",
       "CourseCategory                -0.006694  \n",
       "TimeSpentOnCourse              0.182553  \n",
       "NumberOfVideosWatched          0.234360  \n",
       "NumberOfQuizzesTaken           0.284504  \n",
       "QuizScores                     0.299983  \n",
       "CompletionRate                 0.326139  \n",
       "DeviceType                     0.007551  \n",
       "CourseCompletion               1.000000  "
      ]
     },
     "execution_count": 77,
     "metadata": {},
     "output_type": "execute_result"
    }
   ],
   "source": [
    "correlation=df.corr()\n",
    "correlation"
   ]
  },
  {
   "cell_type": "code",
   "execution_count": 78,
   "metadata": {},
   "outputs": [],
   "source": [
    "category_counts=df[\"CourseCompletion\"].value_counts()"
   ]
  },
  {
   "cell_type": "code",
   "execution_count": 79,
   "metadata": {},
   "outputs": [
    {
     "data": {
      "text/plain": [
       "(60.355555555555554, 39.644444444444446)"
      ]
     },
     "execution_count": 79,
     "metadata": {},
     "output_type": "execute_result"
    }
   ],
   "source": [
    "percentaged_of_0=(category_counts[0]/len(df[\"CourseCompletion\"]))*100\n",
    "percentaged_of_1=(category_counts[1]/len(df[\"CourseCompletion\"]))*100\n",
    "percentaged_of_0,percentaged_of_1"
   ]
  },
  {
   "cell_type": "code",
   "execution_count": 80,
   "metadata": {},
   "outputs": [],
   "source": [
    "y=np.array(df[\"CourseCompletion\"])"
   ]
  },
  {
   "cell_type": "code",
   "execution_count": 81,
   "metadata": {},
   "outputs": [],
   "source": [
    "x=df.drop(columns=[\"CourseCompletion\",\"UserID\"])\n"
   ]
  },
  {
   "cell_type": "code",
   "execution_count": 82,
   "metadata": {},
   "outputs": [],
   "source": [
    "smote=SMOTE(sampling_strategy=\"minority\")\n",
    "x,y=smote.fit_resample(x,y)"
   ]
  },
  {
   "cell_type": "code",
   "execution_count": 83,
   "metadata": {},
   "outputs": [],
   "source": [
    "x_train,x_test,y_train,y_test=train_test_split(x,y,test_size=0.2,random_state=42,stratify=y)"
   ]
  },
  {
   "cell_type": "code",
   "execution_count": 85,
   "metadata": {},
   "outputs": [
    {
     "data": {
      "text/html": [
       "<style>#sk-container-id-5 {color: black;}#sk-container-id-5 pre{padding: 0;}#sk-container-id-5 div.sk-toggleable {background-color: white;}#sk-container-id-5 label.sk-toggleable__label {cursor: pointer;display: block;width: 100%;margin-bottom: 0;padding: 0.3em;box-sizing: border-box;text-align: center;}#sk-container-id-5 label.sk-toggleable__label-arrow:before {content: \"▸\";float: left;margin-right: 0.25em;color: #696969;}#sk-container-id-5 label.sk-toggleable__label-arrow:hover:before {color: black;}#sk-container-id-5 div.sk-estimator:hover label.sk-toggleable__label-arrow:before {color: black;}#sk-container-id-5 div.sk-toggleable__content {max-height: 0;max-width: 0;overflow: hidden;text-align: left;background-color: #f0f8ff;}#sk-container-id-5 div.sk-toggleable__content pre {margin: 0.2em;color: black;border-radius: 0.25em;background-color: #f0f8ff;}#sk-container-id-5 input.sk-toggleable__control:checked~div.sk-toggleable__content {max-height: 200px;max-width: 100%;overflow: auto;}#sk-container-id-5 input.sk-toggleable__control:checked~label.sk-toggleable__label-arrow:before {content: \"▾\";}#sk-container-id-5 div.sk-estimator input.sk-toggleable__control:checked~label.sk-toggleable__label {background-color: #d4ebff;}#sk-container-id-5 div.sk-label input.sk-toggleable__control:checked~label.sk-toggleable__label {background-color: #d4ebff;}#sk-container-id-5 input.sk-hidden--visually {border: 0;clip: rect(1px 1px 1px 1px);clip: rect(1px, 1px, 1px, 1px);height: 1px;margin: -1px;overflow: hidden;padding: 0;position: absolute;width: 1px;}#sk-container-id-5 div.sk-estimator {font-family: monospace;background-color: #f0f8ff;border: 1px dotted black;border-radius: 0.25em;box-sizing: border-box;margin-bottom: 0.5em;}#sk-container-id-5 div.sk-estimator:hover {background-color: #d4ebff;}#sk-container-id-5 div.sk-parallel-item::after {content: \"\";width: 100%;border-bottom: 1px solid gray;flex-grow: 1;}#sk-container-id-5 div.sk-label:hover label.sk-toggleable__label {background-color: #d4ebff;}#sk-container-id-5 div.sk-serial::before {content: \"\";position: absolute;border-left: 1px solid gray;box-sizing: border-box;top: 0;bottom: 0;left: 50%;z-index: 0;}#sk-container-id-5 div.sk-serial {display: flex;flex-direction: column;align-items: center;background-color: white;padding-right: 0.2em;padding-left: 0.2em;position: relative;}#sk-container-id-5 div.sk-item {position: relative;z-index: 1;}#sk-container-id-5 div.sk-parallel {display: flex;align-items: stretch;justify-content: center;background-color: white;position: relative;}#sk-container-id-5 div.sk-item::before, #sk-container-id-5 div.sk-parallel-item::before {content: \"\";position: absolute;border-left: 1px solid gray;box-sizing: border-box;top: 0;bottom: 0;left: 50%;z-index: -1;}#sk-container-id-5 div.sk-parallel-item {display: flex;flex-direction: column;z-index: 1;position: relative;background-color: white;}#sk-container-id-5 div.sk-parallel-item:first-child::after {align-self: flex-end;width: 50%;}#sk-container-id-5 div.sk-parallel-item:last-child::after {align-self: flex-start;width: 50%;}#sk-container-id-5 div.sk-parallel-item:only-child::after {width: 0;}#sk-container-id-5 div.sk-dashed-wrapped {border: 1px dashed gray;margin: 0 0.4em 0.5em 0.4em;box-sizing: border-box;padding-bottom: 0.4em;background-color: white;}#sk-container-id-5 div.sk-label label {font-family: monospace;font-weight: bold;display: inline-block;line-height: 1.2em;}#sk-container-id-5 div.sk-label-container {text-align: center;}#sk-container-id-5 div.sk-container {/* jupyter's `normalize.less` sets `[hidden] { display: none; }` but bootstrap.min.css set `[hidden] { display: none !important; }` so we also need the `!important` here to be able to override the default hidden behavior on the sphinx rendered scikit-learn.org. See: https://github.com/scikit-learn/scikit-learn/issues/21755 */display: inline-block !important;position: relative;}#sk-container-id-5 div.sk-text-repr-fallback {display: none;}</style><div id=\"sk-container-id-5\" class=\"sk-top-container\"><div class=\"sk-text-repr-fallback\"><pre>RandomForestClassifier(random_state=42)</pre><b>In a Jupyter environment, please rerun this cell to show the HTML representation or trust the notebook. <br />On GitHub, the HTML representation is unable to render, please try loading this page with nbviewer.org.</b></div><div class=\"sk-container\" hidden><div class=\"sk-item\"><div class=\"sk-estimator sk-toggleable\"><input class=\"sk-toggleable__control sk-hidden--visually\" id=\"sk-estimator-id-5\" type=\"checkbox\" checked><label for=\"sk-estimator-id-5\" class=\"sk-toggleable__label sk-toggleable__label-arrow\">RandomForestClassifier</label><div class=\"sk-toggleable__content\"><pre>RandomForestClassifier(random_state=42)</pre></div></div></div></div></div>"
      ],
      "text/plain": [
       "RandomForestClassifier(random_state=42)"
      ]
     },
     "execution_count": 85,
     "metadata": {},
     "output_type": "execute_result"
    }
   ],
   "source": [
    "clf=RandomForestClassifier(n_estimators=100,random_state=42)\n",
    "clf.fit(x_train,y_train)"
   ]
  },
  {
   "cell_type": "code",
   "execution_count": 86,
   "metadata": {},
   "outputs": [],
   "source": [
    "y_pred=clf.predict(x_test)"
   ]
  },
  {
   "cell_type": "code",
   "execution_count": 87,
   "metadata": {},
   "outputs": [
    {
     "name": "stdout",
     "output_type": "stream",
     "text": [
      "int64 int64\n"
     ]
    }
   ],
   "source": [
    "print(y_test.dtype,y_pred.dtype)"
   ]
  },
  {
   "cell_type": "code",
   "execution_count": 88,
   "metadata": {},
   "outputs": [
    {
     "name": "stdout",
     "output_type": "stream",
     "text": [
      "precision score : 0.9760306807286673\n",
      "score : 0.9572020248504371\n",
      "confusion matrix : \n",
      "[[1062   25]\n",
      " [  68 1018]]\n",
      "Report :\n",
      "               precision    recall  f1-score   support\n",
      "\n",
      "           0       0.94      0.98      0.96      1087\n",
      "           1       0.98      0.94      0.96      1086\n",
      "\n",
      "    accuracy                           0.96      2173\n",
      "   macro avg       0.96      0.96      0.96      2173\n",
      "weighted avg       0.96      0.96      0.96      2173\n",
      "\n"
     ]
    }
   ],
   "source": [
    "precision=precision_score(y_test,y_pred)\n",
    "cm=confusion_matrix(y_test,y_pred)\n",
    "report=classification_report(y_test,y_pred)\n",
    "score=clf.score(x_test,y_test)\n",
    "print(f\"precision score : {precision}\\nscore : {score}\")\n",
    "print(f\"confusion matrix : \\n{cm}\\nReport :\\n {report}\")"
   ]
  },
  {
   "cell_type": "code",
   "execution_count": 89,
   "metadata": {},
   "outputs": [
    {
     "data": {
      "text/plain": [
       "['course_engagement_clf_model.pkl']"
      ]
     },
     "execution_count": 89,
     "metadata": {},
     "output_type": "execute_result"
    }
   ],
   "source": [
    "import joblib\n",
    "joblib.dump(clf,\"course_engagement_clf_model.pkl\")"
   ]
  },
  {
   "cell_type": "code",
   "execution_count": 90,
   "metadata": {},
   "outputs": [],
   "source": [
    "model=joblib.load(\"course_engagement_clf_model.pkl\")"
   ]
  }
 ],
 "metadata": {
  "kernelspec": {
   "display_name": "Python 3",
   "language": "python",
   "name": "python3"
  },
  "language_info": {
   "codemirror_mode": {
    "name": "ipython",
    "version": 3
   },
   "file_extension": ".py",
   "mimetype": "text/x-python",
   "name": "python",
   "nbconvert_exporter": "python",
   "pygments_lexer": "ipython3",
   "version": "3.11.0"
  }
 },
 "nbformat": 4,
 "nbformat_minor": 2
}
